{
  "nbformat": 4,
  "nbformat_minor": 0,
  "metadata": {
    "colab": {
      "provenance": [],
      "authorship_tag": "ABX9TyP2aRGLSRjhmFDpLfVDpszM",
      "include_colab_link": true
    },
    "kernelspec": {
      "name": "python3",
      "display_name": "Python 3"
    },
    "language_info": {
      "name": "python"
    }
  },
  "cells": [
    {
      "cell_type": "markdown",
      "metadata": {
        "id": "view-in-github",
        "colab_type": "text"
      },
      "source": [
        "<a href=\"https://colab.research.google.com/github/elisabavaresco/EBAC-M5/blob/main/Estrutura_condicional.ipynb\" target=\"_parent\"><img src=\"https://colab.research.google.com/assets/colab-badge.svg\" alt=\"Open In Colab\"/></a>"
      ]
    },
    {
      "cell_type": "markdown",
      "source": [
        "# Condicional"
      ],
      "metadata": {
        "id": "p12-xyO3ulLm"
      }
    },
    {
      "cell_type": "code",
      "execution_count": null,
      "metadata": {
        "id": "me6Uvwwhuh2w"
      },
      "outputs": [],
      "source": [
        "# If / Else\n",
        "\n",
        "num1 = 10\n",
        "num2 = 5\n",
        "if num1 > num2:\n",
        "  print(\"O num1 é o maior número\")\n",
        "else:\n",
        "  print(\"O num2 é o maior número\")"
      ]
    },
    {
      "cell_type": "code",
      "source": [
        "# If / Else / Elif\n",
        "num1 = 10\n",
        "num2 = 10\n",
        "\n",
        "if num1 > num2:\n",
        "  print(\"O num1 é o maior número\")\n",
        "elif:\n",
        "  print(\"O num2 é o maior número\")\n",
        "else:\n",
        "  print(\"Os dois são iguais\")"
      ],
      "metadata": {
        "id": "buTFzketu9GC"
      },
      "execution_count": null,
      "outputs": []
    },
    {
      "cell_type": "markdown",
      "source": [
        "# Condicional com operadores lógicos"
      ],
      "metadata": {
        "id": "EgvqTHbZvJ3t"
      }
    },
    {
      "cell_type": "code",
      "source": [
        "num1 = 10\n",
        "num2 = 5\n",
        "num3 = 2\n",
        "\n",
        "if (num1 > num2) and (num1 > num3):\n",
        "  print(\"O num1 é o maior número\")\n",
        "else:\n",
        "  print(\"O num1 não é o maior número\")"
      ],
      "metadata": {
        "id": "NLVWAuXQvNIZ"
      },
      "execution_count": null,
      "outputs": []
    }
  ]
}