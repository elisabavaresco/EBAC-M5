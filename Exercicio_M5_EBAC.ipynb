{
  "nbformat": 4,
  "nbformat_minor": 0,
  "metadata": {
    "colab": {
      "provenance": [],
      "authorship_tag": "ABX9TyPWs1UcaimJaaWuW+ahm5xP",
      "include_colab_link": true
    },
    "kernelspec": {
      "name": "python3",
      "display_name": "Python 3"
    },
    "language_info": {
      "name": "python"
    }
  },
  "cells": [
    {
      "cell_type": "markdown",
      "metadata": {
        "id": "view-in-github",
        "colab_type": "text"
      },
      "source": [
        "<a href=\"https://colab.research.google.com/github/elisabavaresco/EBAC-M5/blob/main/Exercicio_M5_EBAC.ipynb\" target=\"_parent\"><img src=\"https://colab.research.google.com/assets/colab-badge.svg\" alt=\"Open In Colab\"/></a>"
      ]
    },
    {
      "cell_type": "code",
      "execution_count": 2,
      "metadata": {
        "colab": {
          "base_uri": "https://localhost:8080/"
        },
        "id": "J--5eajRyJ3s",
        "outputId": "5295755a-13aa-487a-9b4c-528f9c6d0f48"
      },
      "outputs": [
        {
          "output_type": "stream",
          "name": "stdout",
          "text": [
            "Escolha uma operação matemática:dict_keys(['soma', 'subtração', 'multiplicação', 'divisão'])soma\n",
            "Digite o primeiro número: 4\n",
            "Digite o segundo número: 5\n",
            "O resultado é 9\n"
          ]
        }
      ],
      "source": [
        "def sum(a: int, b: int):\n",
        "  return a + b\n",
        "\n",
        "def sub(a: int, b: int):\n",
        "  return a - b\n",
        "\n",
        "def mult(a: int, b: int):\n",
        "  return a * b\n",
        "\n",
        "def div(a: int, b: int):\n",
        "  return a / b\n",
        "\n",
        "math_ops = {\"soma\": sum, \"subtração\": sub, \"multiplicação\": mult, \"divisão\": div}\n",
        "\n",
        "math_op_user = input(f\"Escolha uma operação matemática:{math_ops.keys()}\")\n",
        "\n",
        "if math_op_user.lower() not in math_ops.keys():\n",
        "  print(\"Operação não encontrada\")\n",
        "else:\n",
        "  num1_user = int(input(\"Digite o primeiro número: \"))\n",
        "  num2_user = int(input(\"Digite o segundo número: \"))\n",
        "  print(\"O resultado é\", math_ops[math_op_user.lower()](num1_user, num2_user))"
      ]
    }
  ]
}