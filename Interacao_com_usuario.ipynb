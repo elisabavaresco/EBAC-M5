{
  "nbformat": 4,
  "nbformat_minor": 0,
  "metadata": {
    "colab": {
      "provenance": [],
      "authorship_tag": "ABX9TyP/5HHzi93/eJqs/hrm0a54",
      "include_colab_link": true
    },
    "kernelspec": {
      "name": "python3",
      "display_name": "Python 3"
    },
    "language_info": {
      "name": "python"
    }
  },
  "cells": [
    {
      "cell_type": "markdown",
      "metadata": {
        "id": "view-in-github",
        "colab_type": "text"
      },
      "source": [
        "<a href=\"https://colab.research.google.com/github/elisabavaresco/EBAC-M5/blob/main/Interacao_com_usuario.ipynb\" target=\"_parent\"><img src=\"https://colab.research.google.com/assets/colab-badge.svg\" alt=\"Open In Colab\"/></a>"
      ]
    },
    {
      "cell_type": "markdown",
      "source": [
        "# Visualização de Variáveis e Textos"
      ],
      "metadata": {
        "id": "NFx-KxE6dAsR"
      }
    },
    {
      "cell_type": "code",
      "execution_count": null,
      "metadata": {
        "id": "u_bqw4dac7e4"
      },
      "outputs": [],
      "source": [
        "print(\"Conhecendo o comando Print\")\n",
        "\n",
        "x = 8\n",
        "print(x)"
      ]
    },
    {
      "cell_type": "code",
      "source": [
        "y = 10\n",
        "soma = x + y\n",
        "print(soma)"
      ],
      "metadata": {
        "id": "TXXS-GoRdLne"
      },
      "execution_count": null,
      "outputs": []
    },
    {
      "cell_type": "code",
      "source": [
        "nome = \"Rosrigo Rebouças\"\n",
        "print(nome)"
      ],
      "metadata": {
        "id": "Bs00d8GHdQbM"
      },
      "execution_count": null,
      "outputs": []
    },
    {
      "cell_type": "markdown",
      "source": [
        "Concatenação"
      ],
      "metadata": {
        "id": "Ec2M2PlcdYY3"
      }
    },
    {
      "cell_type": "code",
      "source": [
        "x = 5\n",
        "print(\"O valor de x é \", x)"
      ],
      "metadata": {
        "id": "ouI1fuKodbKv"
      },
      "execution_count": null,
      "outputs": []
    },
    {
      "cell_type": "code",
      "source": [
        "print(\"O valor de x é \", x, \"e o dobro é \", x * 2)"
      ],
      "metadata": {
        "id": "XJBsyKEsdiGl"
      },
      "execution_count": null,
      "outputs": []
    },
    {
      "cell_type": "code",
      "source": [
        "print(\"Eu, \", nome, \"tirei\", x, \"na prova de Python\")"
      ],
      "metadata": {
        "id": "MOdUMb5WdoxW"
      },
      "execution_count": null,
      "outputs": []
    },
    {
      "cell_type": "code",
      "source": [
        "print(f\"Eu {nome} tirei {x} na prova de Python\")"
      ],
      "metadata": {
        "id": "9gDIKk5Ad9HU"
      },
      "execution_count": null,
      "outputs": []
    },
    {
      "cell_type": "code",
      "source": [
        "y = 10; z = 20 + x - y\n",
        "\n",
        "print(\"Declarar várias vairáveis na mesma linha:\", y, z)"
      ],
      "metadata": {
        "id": "m7r9He0FdwIo"
      },
      "execution_count": null,
      "outputs": []
    },
    {
      "cell_type": "markdown",
      "source": [
        "Type"
      ],
      "metadata": {
        "id": "zqlboEP3eFsQ"
      }
    },
    {
      "cell_type": "code",
      "source": [
        "x = 10\n",
        "type(x)\n",
        "print('x', type(x))\n",
        "\n",
        "nome = \"Rodrigo\"\n",
        "print('nome', type(nome))\n",
        "\n",
        "num = \"100\"\n",
        "num_convert = int(num) # converter variável\n",
        "print(\"num\", type(num))\n",
        "print(\"num_conver\", type(num_convert))\n",
        "\n",
        "num_float = float(num)\n",
        "print('num_float', type(num_float))"
      ],
      "metadata": {
        "colab": {
          "base_uri": "https://localhost:8080/"
        },
        "id": "chzoW4cFeH9N",
        "outputId": "0f12f3bf-d4b3-4cc7-ad8d-23506e701964"
      },
      "execution_count": 2,
      "outputs": [
        {
          "output_type": "stream",
          "name": "stdout",
          "text": [
            "x <class 'int'>\n",
            "nome <class 'str'>\n",
            "num <class 'str'>\n",
            "num_conver <class 'int'>\n",
            "num_float <class 'float'>\n"
          ]
        }
      ]
    },
    {
      "cell_type": "markdown",
      "source": [
        "Input"
      ],
      "metadata": {
        "id": "JtrZRO-jfwkX"
      }
    },
    {
      "cell_type": "code",
      "source": [
        "nome = input(\"Digite o nome do usuário \")\n",
        "print(nome)"
      ],
      "metadata": {
        "id": "PCdZI6X9fx3q"
      },
      "execution_count": null,
      "outputs": []
    },
    {
      "cell_type": "code",
      "source": [
        "valor = input(\"Digite a nota \")\n",
        "print(nome, \"sua nota foi\", valor)"
      ],
      "metadata": {
        "id": "2pCaxdixf389"
      },
      "execution_count": null,
      "outputs": []
    },
    {
      "cell_type": "code",
      "source": [
        "vlor = input(\"Digite o valor do produto: \")\n",
        "print(valor)"
      ],
      "metadata": {
        "id": "aBbalvSjlSNd"
      },
      "execution_count": null,
      "outputs": []
    },
    {
      "cell_type": "code",
      "source": [
        "valor_convet = int(valor)\n",
        "desconto = valor_convet + 5\n",
        "print(desconto)"
      ],
      "metadata": {
        "id": "dg5Z5UyQleF5"
      },
      "execution_count": null,
      "outputs": []
    },
    {
      "cell_type": "code",
      "source": [
        "desconto = int(valor) + 5\n",
        "print(desconto)"
      ],
      "metadata": {
        "id": "PlOqHDQCnwPZ"
      },
      "execution_count": null,
      "outputs": []
    }
  ]
}