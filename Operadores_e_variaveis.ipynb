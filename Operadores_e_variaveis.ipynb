{
  "nbformat": 4,
  "nbformat_minor": 0,
  "metadata": {
    "colab": {
      "provenance": [],
      "authorship_tag": "ABX9TyMwLGzVGTInxKN/g+DCksZS",
      "include_colab_link": true
    },
    "kernelspec": {
      "name": "python3",
      "display_name": "Python 3"
    },
    "language_info": {
      "name": "python"
    }
  },
  "cells": [
    {
      "cell_type": "markdown",
      "metadata": {
        "id": "view-in-github",
        "colab_type": "text"
      },
      "source": [
        "<a href=\"https://colab.research.google.com/github/elisabavaresco/EBAC-M5/blob/main/Operadores_e_variaveis.ipynb\" target=\"_parent\"><img src=\"https://colab.research.google.com/assets/colab-badge.svg\" alt=\"Open In Colab\"/></a>"
      ]
    },
    {
      "cell_type": "markdown",
      "source": [
        "# Operadores Aritméticos"
      ],
      "metadata": {
        "id": "kKRhjwzvTYnk"
      }
    },
    {
      "cell_type": "code",
      "execution_count": 1,
      "metadata": {
        "colab": {
          "base_uri": "https://localhost:8080/"
        },
        "id": "Nr--GbfyTPGV",
        "outputId": "dec6a933-0115-4048-d24a-807d03c8b122"
      },
      "outputs": [
        {
          "output_type": "execute_result",
          "data": {
            "text/plain": [
              "12"
            ]
          },
          "metadata": {},
          "execution_count": 1
        }
      ],
      "source": [
        "# Adição\n",
        "10 + 2\n",
        "\n",
        "# Subtração\n",
        "10 - 2\n",
        "\n",
        "# Multiplicação\n",
        "10 * 2\n",
        "\n",
        "# Divisão\n",
        "10 / 2\n",
        "\n",
        "# Divião Inteira\n",
        "10 // 2\n",
        "\n",
        "# Resto da Divisão\n",
        "10 % 2\n",
        "\n",
        "# Potenciação\n",
        "10 ** 2"
      ]
    },
    {
      "cell_type": "markdown",
      "source": [
        "# Operadores Relacionais"
      ],
      "metadata": {
        "id": "Xo3p5S2mWrgF"
      }
    },
    {
      "cell_type": "code",
      "source": [
        "# Menor\n",
        "10 < 2\n",
        "\n",
        "# Menor ou Iguak\n",
        "10 <= 2\n",
        "\n",
        "# Maior\n",
        "10 > 2\n",
        "\n",
        "# Maior ou Igual\n",
        "10 => 2\n",
        "\n",
        "# Igual\n",
        "10 == 7\n",
        "\n",
        "# Diferente\n",
        "7 != 7"
      ],
      "metadata": {
        "id": "uSn06ZVbWvoH"
      },
      "execution_count": null,
      "outputs": []
    },
    {
      "cell_type": "markdown",
      "source": [
        "# Operadores Lógicos\n",
        "\n",
        "* And\n",
        "* Or\n",
        "* Not"
      ],
      "metadata": {
        "id": "BGgBdKhjXbsH"
      }
    },
    {
      "cell_type": "markdown",
      "source": [
        "### Tabela Verdade"
      ],
      "metadata": {
        "id": "tWovNCHjX5w_"
      }
    },
    {
      "cell_type": "markdown",
      "source": [
        "And - para retornar algo como verdadeiro, tudo precisa ser verdadeiro"
      ],
      "metadata": {
        "id": "KYT9SSlHYByY"
      }
    },
    {
      "cell_type": "code",
      "source": [
        "print(10 > 2 and 4 < 6) # V and V - V\n",
        "print(10 > 2 and 4 > 6) # V and F - F\n",
        "print(10 < 2 and 4 < 6) # V and F - F\n",
        "print(10 < 2 and 4 > 6) # F and F - F"
      ],
      "metadata": {
        "colab": {
          "base_uri": "https://localhost:8080/"
        },
        "id": "Br3HnUOvYGj0",
        "outputId": "6f2a41f6-1828-428a-d850-8e99498b55c3"
      },
      "execution_count": 2,
      "outputs": [
        {
          "output_type": "stream",
          "name": "stdout",
          "text": [
            "True\n",
            "False\n",
            "False\n",
            "False\n"
          ]
        }
      ]
    },
    {
      "cell_type": "markdown",
      "source": [
        "Or - para retornar como verdadeiro, um item basta ser verdadeiro"
      ],
      "metadata": {
        "id": "vPho_SJ-ZIJn"
      }
    },
    {
      "cell_type": "code",
      "source": [
        "print(10 > 2 or 4 < 6) # V and V - V\n",
        "print(10 > 2 or 4 > 6) # V and F - V\n",
        "print(10 < 2 or 4 < 6) # V and F - V\n",
        "print(10 < 2 or 4 > 6) # F and F - F"
      ],
      "metadata": {
        "colab": {
          "base_uri": "https://localhost:8080/"
        },
        "id": "CwCndfItZLcJ",
        "outputId": "e9bce6f1-fc7e-4312-988f-3537a0acd6b4"
      },
      "execution_count": 3,
      "outputs": [
        {
          "output_type": "stream",
          "name": "stdout",
          "text": [
            "True\n",
            "True\n",
            "True\n",
            "False\n"
          ]
        }
      ]
    },
    {
      "cell_type": "markdown",
      "source": [
        "Not - vai inverter as respostas"
      ],
      "metadata": {
        "id": "iL1c6q4CcIhy"
      }
    },
    {
      "cell_type": "code",
      "source": [
        "not 10 > 2 # V - F"
      ],
      "metadata": {
        "colab": {
          "base_uri": "https://localhost:8080/"
        },
        "id": "8J0utXITcJyd",
        "outputId": "542e03c0-2dc6-4df9-b31a-7f523b580f14"
      },
      "execution_count": 6,
      "outputs": [
        {
          "output_type": "execute_result",
          "data": {
            "text/plain": [
              "False"
            ]
          },
          "metadata": {},
          "execution_count": 6
        }
      ]
    },
    {
      "cell_type": "code",
      "source": [
        "not 10 < 2 # F - V"
      ],
      "metadata": {
        "colab": {
          "base_uri": "https://localhost:8080/"
        },
        "id": "bnP0U1UGcSn6",
        "outputId": "ff2a9148-423c-49d3-a9bd-b07ae5f896db"
      },
      "execution_count": 5,
      "outputs": [
        {
          "output_type": "execute_result",
          "data": {
            "text/plain": [
              "True"
            ]
          },
          "metadata": {},
          "execution_count": 5
        }
      ]
    },
    {
      "cell_type": "markdown",
      "source": [
        "# Variáveis\n",
        "Variáveis estão alocadas em espaços na memória"
      ],
      "metadata": {
        "id": "_h8Ll852xNcL"
      }
    },
    {
      "cell_type": "code",
      "source": [
        "# Nome da variável é \"x\" que armazena o valor 10 em um espaço na memória\n",
        "\n",
        "x = 10\n",
        "\n",
        "print(x) # Utilizar a referencia no nome atribuído"
      ],
      "metadata": {
        "id": "q2RCt5QOxaBS"
      },
      "execution_count": null,
      "outputs": []
    },
    {
      "cell_type": "markdown",
      "source": [
        "Regas"
      ],
      "metadata": {
        "id": "LLHIakybxotT"
      }
    },
    {
      "cell_type": "markdown",
      "source": [
        "**Nome da variável**\n",
        "\n",
        "* Começar com letra (a-z) ou sublinhado (_)\n",
        "* São case sensitive (Diferença entre letras maiúsculas e minúsculas):\n",
        "A != a\n",
        "\n",
        "**Boas Paráticas com Vairáveis**\n",
        "\n",
        "\n",
        "> Exemplo: Multiplicação de 2 números\n",
        "\n",
        "Não usar:\n",
        "\n",
        "\n",
        "*   Multiplicação\n",
        "*   MultiplicaçãoDeDoisNumeros\n",
        "* m\n",
        "\n",
        "Usar:\n",
        "* multiplicacao\n",
        "* mult\n",
        "* mult_total (snake_case)\n",
        "\n",
        "Tipos de Variáveis:\n",
        "> Python é uma linguagem de alto nível\n",
        "\n",
        "> Não é necessário especificar o tipo de dados quando declarar a variável\n",
        "\n",
        "> Python define o tipo de dados na declaração\n"
      ],
      "metadata": {
        "id": "IuysevQTxq5r"
      }
    }
  ]
}